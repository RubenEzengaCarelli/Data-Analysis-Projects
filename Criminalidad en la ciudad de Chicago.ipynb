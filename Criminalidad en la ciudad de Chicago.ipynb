{
 "cells": [
  {
   "cell_type": "markdown",
   "id": "811f9fa5",
   "metadata": {},
   "source": [
    "## <center>  CRIMINALIDAD EN LA CIUDAD DE CHICAGO </center>"
   ]
  },
  {
   "cell_type": "markdown",
   "id": "fb9f6d39",
   "metadata": {},
   "source": [
    "#### <center> RETO GRUPAL ÁREA 1 <center> <center> ESCUELA DE TALENTO DIGITAL   <center> NTT DATA FOUNDATION \n",
    "\n",
    " "
   ]
  },
  {
   "cell_type": "markdown",
   "id": "36412902",
   "metadata": {},
   "source": [
    "###### Formato documento\n",
    "\n",
    "###### <left>Versión Jupyter Notebook 6.4.12 <br>Tipografía en negrita: Titulos de sección <br>Textos: Metodología aplicada por el equipo.  <br>Texto entre # :Comentarios sobre el código\n",
    "\n",
    "\n",
    "                      \n"
   ]
  },
  {
   "cell_type": "markdown",
   "id": "7733b725",
   "metadata": {},
   "source": [
    "***"
   ]
  },
  {
   "cell_type": "markdown",
   "id": "c2a6a983",
   "metadata": {},
   "source": [
    "###### Tabla de Contenidos\n",
    "1. Información General del Proyecto\n",
    "2. Librerias\n",
    "3. Funciones\n",
    "4. Código"
   ]
  },
  {
   "cell_type": "markdown",
   "id": "5f25be5f",
   "metadata": {},
   "source": [
    "***"
   ]
  },
  {
   "cell_type": "markdown",
   "id": "88615ad8",
   "metadata": {},
   "source": [
    "### 1. Información General del Proyecto\n",
    "\n",
    "Generar un código que resuleva los ejercicios propuestos para poder analizar la tasa de criminalidad de la ciudad de Chicago.\n",
    "<br>Se nos ha hecho llegar los datos relativos a la criminalidad de la ciudad de Chicago,\n",
    "además de la situación de las comisarías de policía de la ciudad. Nuestra misión será\n",
    "trabajar con estos datos de criminalidad, mantenerlos y representarlos para realizar un\n",
    "Análisis de la situación actual."
   ]
  },
  {
   "cell_type": "markdown",
   "id": "ee5e67e3",
   "metadata": {},
   "source": [
    "### 2. Librerías\n",
    "\n",
    "folium   /generador de mapas interactivos/\n",
    "<br>datetime    /manipulación de fechas y horas/\n",
    "<br>pyproj     /sistemas de referencia espacial/proyecta y transforma coordenadas/realiza calculos geodésicos y distancias\n",
    "<br> math /operaciones matemáticas básicas\n"
   ]
  },
  {
   "cell_type": "markdown",
   "id": "ef72fdb3",
   "metadata": {},
   "source": []
  },
  {
   "cell_type": "code",
   "execution_count": 1,
   "id": "d5ba7609",
   "metadata": {
    "scrolled": false
   },
   "outputs": [
    {
     "name": "stdout",
     "output_type": "stream",
     "text": [
      "Requirement already satisfied: folium in /Users/PULSE/opt/anaconda3/lib/python3.9/site-packages (0.14.0)\n",
      "Requirement already satisfied: requests in /Users/PULSE/opt/anaconda3/lib/python3.9/site-packages (from folium) (2.28.1)\n",
      "Requirement already satisfied: branca>=0.6.0 in /Users/PULSE/opt/anaconda3/lib/python3.9/site-packages (from folium) (0.6.0)\n",
      "Requirement already satisfied: numpy in /Users/PULSE/opt/anaconda3/lib/python3.9/site-packages (from folium) (1.21.5)\n",
      "Requirement already satisfied: jinja2>=2.9 in /Users/PULSE/opt/anaconda3/lib/python3.9/site-packages (from folium) (2.11.3)\n",
      "Requirement already satisfied: MarkupSafe>=0.23 in /Users/PULSE/opt/anaconda3/lib/python3.9/site-packages (from jinja2>=2.9->folium) (2.0.1)\n",
      "Requirement already satisfied: idna<4,>=2.5 in /Users/PULSE/opt/anaconda3/lib/python3.9/site-packages (from requests->folium) (3.3)\n",
      "Requirement already satisfied: charset-normalizer<3,>=2 in /Users/PULSE/opt/anaconda3/lib/python3.9/site-packages (from requests->folium) (2.0.4)\n",
      "Requirement already satisfied: urllib3<1.27,>=1.21.1 in /Users/PULSE/opt/anaconda3/lib/python3.9/site-packages (from requests->folium) (1.26.11)\n",
      "Requirement already satisfied: certifi>=2017.4.17 in /Users/PULSE/opt/anaconda3/lib/python3.9/site-packages (from requests->folium) (2022.9.24)\n",
      "Note: you may need to restart the kernel to use updated packages.\n"
     ]
    }
   ],
   "source": [
    "pip install folium"
   ]
  },
  {
   "cell_type": "code",
   "execution_count": 2,
   "id": "ede915c4",
   "metadata": {},
   "outputs": [],
   "source": [
    "import folium"
   ]
  },
  {
   "cell_type": "code",
   "execution_count": 3,
   "id": "db012451",
   "metadata": {},
   "outputs": [
    {
     "name": "stdout",
     "output_type": "stream",
     "text": [
      "Requirement already satisfied: pyproj in /Users/PULSE/opt/anaconda3/lib/python3.9/site-packages (3.4.1)\n",
      "Requirement already satisfied: certifi in /Users/PULSE/opt/anaconda3/lib/python3.9/site-packages (from pyproj) (2022.9.24)\n",
      "Note: you may need to restart the kernel to use updated packages.\n"
     ]
    }
   ],
   "source": [
    "pip install pyproj"
   ]
  },
  {
   "cell_type": "code",
   "execution_count": 4,
   "id": "0e94bb10",
   "metadata": {},
   "outputs": [],
   "source": [
    "from pyproj import Transformer"
   ]
  },
  {
   "cell_type": "code",
   "execution_count": 5,
   "id": "fc0735be",
   "metadata": {},
   "outputs": [],
   "source": [
    "from datetime import datetime"
   ]
  },
  {
   "cell_type": "code",
   "execution_count": 6,
   "id": "6135d82e",
   "metadata": {},
   "outputs": [],
   "source": [
    "import math"
   ]
  },
  {
   "cell_type": "markdown",
   "id": "19e91028",
   "metadata": {},
   "source": [
    "### 3. Funciones"
   ]
  },
  {
   "cell_type": "markdown",
   "id": "5da4f9ff",
   "metadata": {},
   "source": [
    "def indice_criminalidad( ):\n",
    "<br>def ingresar_delitos(): \n",
    "<br>def agregar_delito():\n",
    "<br>def conversor_de_tiempo_a_minutos(horas,minutos,segundos):\n",
    "<br>def ordena_delitos(lista_delitos):\n"
   ]
  },
  {
   "cell_type": "markdown",
   "id": "94ae3476",
   "metadata": {},
   "source": []
  },
  {
   "cell_type": "markdown",
   "id": "9dec5c92",
   "metadata": {},
   "source": [
    "### 4. Código"
   ]
  },
  {
   "cell_type": "markdown",
   "id": "a718b64c",
   "metadata": {},
   "source": []
  },
  {
   "cell_type": "markdown",
   "id": "7ccff332",
   "metadata": {},
   "source": [
    "#### Ejercicio 1\n",
    "Cread una lista que contenga los datos de los delitos en forma de diccionario, de \n",
    "forma que tengamos en una única variable los datos de estos.\n",
    "<br>a. Creamos una lista que contienen los datos de los delitos en forma de diccionario"
   ]
  },
  {
   "cell_type": "code",
   "execution_count": 7,
   "id": "cc06a7e3",
   "metadata": {},
   "outputs": [],
   "source": [
    "# Iniciamos lista de claves, valores y de delitos y un contador.\n",
    "claves = [\"Num_caso\", \"Descripción\", \"Arrestado\", \"Nro_area_comunitaria\", \"Cuadra\", \"Fecha\", \"Coordenadas_la\", \"Coordenadas_lo\"]\n",
    "valores = []\n",
    "lista_delitos = []"
   ]
  },
  {
   "cell_type": "markdown",
   "id": "a2addd0b",
   "metadata": {},
   "source": [
    "La función ingresar_delitos() nos permite agregar de a varios delitos de una sola vez a la lista de delitos por ejecución"
   ]
  },
  {
   "cell_type": "code",
   "execution_count": 8,
   "id": "4fa38a7d",
   "metadata": {},
   "outputs": [],
   "source": [
    "def ingresar_delitos(): \n",
    "    cont = 1    \n",
    "    # Preguntamos si se desea agregar un delito a la base de datos\n",
    "    opc = input(\"¿Desea agregar un delito?: \\n\\n\").capitalize()\n",
    "    # Se van creando los delitos, que son diccionarios que se van a agregar a la lista de delitos\n",
    "    while (opc == \"Si\"):\n",
    "        for clave in claves:\n",
    "            valor = input(f\"\\nIngrese {clave}_{cont}: \")\n",
    "            valores.append(valor)\n",
    "        delito = {}\n",
    "        for clave, valor in zip(claves, valores):\n",
    "            delito[f\"{clave}_{cont}\"] = valor\n",
    "        cont += 1\n",
    "        lista_delitos.append(delito)\n",
    "        opc = input(\"\\n¿Desea agregar otro delito? (Si/No): \\n\\n\").capitalize()\n",
    "        valores.clear()\n",
    "        if (opc == \"No\"):\n",
    "            break"
   ]
  },
  {
   "cell_type": "markdown",
   "id": "c4bf15da",
   "metadata": {},
   "source": [
    "Agregamos los tres primeros delitos, en una lista."
   ]
  },
  {
   "cell_type": "code",
   "execution_count": 9,
   "id": "fc7fc4a6",
   "metadata": {},
   "outputs": [
    {
     "name": "stdout",
     "output_type": "stream",
     "text": [
      "¿Desea agregar un delito?: \n",
      "\n",
      "si\n",
      "\n",
      "Ingrese Num_caso_1: HY411648\n",
      "\n",
      "Ingrese Descripción_1: Maltrato doméstico\n",
      "\n",
      "Ingrese Arrestado_1: False\n",
      "\n",
      "Ingrese Nro_area_comunitaria_1: 61\n",
      "\n",
      "Ingrese Cuadra_1: 043XX S WOOD ST\n",
      "\n",
      "Ingrese Fecha_1: 2015-09-05 13:30:00\n",
      "\n",
      "Ingrese Coordenadas_la_1: 41.815117\n",
      "\n",
      "Ingrese Coordenadas_lo_1: -87.670000\n",
      "\n",
      "¿Desea agregar otro delito? (Si/No): \n",
      "\n",
      "si\n",
      "\n",
      "Ingrese Num_caso_2: HY411595\n",
      "\n",
      "Ingrese Descripción_2: Tráfico de drogas\n",
      "\n",
      "Ingrese Arrestado_2: True\n",
      "\n",
      "Ingrese Nro_area_comunitaria_2: 21\n",
      "\n",
      "Ingrese Cuadra_2: 035XX W BARRY AVE\n",
      "\n",
      "Ingrese Fecha_2: 2015-09-05 12:45:00\n",
      "\n",
      "Ingrese Coordenadas_la_2: 41.937406\n",
      "\n",
      "Ingrese Coordenadas_lo_2: -87.716650\n",
      "\n",
      "¿Desea agregar otro delito? (Si/No): \n",
      "\n",
      "si\n",
      "\n",
      "Ingrese Num_caso_3: HY411435\n",
      "\n",
      "Ingrese Descripción_3: Robo en casa\n",
      "\n",
      "Ingrese Arrestado_3: False\n",
      "\n",
      "Ingrese Nro_area_comunitaria_3: 71\n",
      "\n",
      "Ingrese Cuadra_3: 082XX S LOOMIS BLVD\n",
      "\n",
      "Ingrese Fecha_3: 2015-09-05 10:55:00\n",
      "\n",
      "Ingrese Coordenadas_la_3: 41.744379\n",
      "\n",
      "Ingrese Coordenadas_lo_3: -87.658431\n",
      "\n",
      "¿Desea agregar otro delito? (Si/No): \n",
      "\n",
      "no\n"
     ]
    }
   ],
   "source": [
    "ingresar_delitos()"
   ]
  },
  {
   "cell_type": "markdown",
   "id": "990b3cb1",
   "metadata": {},
   "source": [
    "b. Se ha cometido un nuevo delito, añadidlo al listado"
   ]
  },
  {
   "cell_type": "markdown",
   "id": "b6f1b1be",
   "metadata": {},
   "source": [
    "Agregamos el cuarto delito."
   ]
  },
  {
   "cell_type": "markdown",
   "id": "a52faf77",
   "metadata": {},
   "source": [
    "La función agregar_delito() nos va a permitir agregar solo un  delito por vez que se ejecuta la función. El delito se añade a la lista de delitos."
   ]
  },
  {
   "cell_type": "code",
   "execution_count": 12,
   "id": "c48461e6",
   "metadata": {},
   "outputs": [],
   "source": [
    "def agregar_delito():\n",
    "    opc = input(\"\\n¿Desea agregar otro delito? (Si/No): \\n\\n\").capitalize()\n",
    "    if (opc == \"Si\"):\n",
    "        cont = len(lista_delitos) + 1\n",
    "        for clave in claves:\n",
    "            valor = input(f\"\\nIngrese {clave}_{cont}: \")\n",
    "            valores.append(valor)\n",
    "        delito = {}\n",
    "        for clave, valor in zip(claves, valores):\n",
    "            delito[f\"{clave}_{cont}\"] = valor\n",
    "        lista_delitos.append(delito)"
   ]
  },
  {
   "cell_type": "code",
   "execution_count": 13,
   "id": "a676ecab",
   "metadata": {
    "scrolled": false
   },
   "outputs": [
    {
     "name": "stdout",
     "output_type": "stream",
     "text": [
      "\n",
      "¿Desea agregar otro delito? (Si/No): \n",
      "\n",
      "si\n",
      "\n",
      "Ingrese Num_caso_4: HY411662\n",
      "\n",
      "Ingrese Descripción_4: Robo por valor menor a 500$\n",
      "\n",
      "Ingrese Arrestado_4: False\n",
      "\n",
      "Ingrese Nro_area_comunitaria_4: 65\n",
      "\n",
      "Ingrese Cuadra_4: 071XX S PULASKI RD\n",
      "\n",
      "Ingrese Fecha_4: 2015-09-05 14:00:00\n",
      "\n",
      "Ingrese Coordenadas_la_4: 41.763648\n",
      "\n",
      "Ingrese Coordenadas_lo_4: -87.722345\n"
     ]
    }
   ],
   "source": [
    "agregar_delito()"
   ]
  },
  {
   "cell_type": "markdown",
   "id": "bc323003",
   "metadata": {},
   "source": [
    "Comprobamos lista_delitos."
   ]
  },
  {
   "cell_type": "code",
   "execution_count": 28,
   "id": "9f653459",
   "metadata": {},
   "outputs": [
    {
     "data": {
      "text/plain": [
       "[{'Num_caso_1': 'HY411648',\n",
       "  'Descripción_1': 'Maltrato doméstico',\n",
       "  'Arrestado_1': 'False',\n",
       "  'Nro_area_comunitaria_1': '61',\n",
       "  'Cuadra_1': '043XX S WOOD ST',\n",
       "  'Fecha_1': '2015-09-05 13:30:00',\n",
       "  'Coordenadas_la_1': '41.815117',\n",
       "  'Coordenadas_lo_1': '-87.670000'},\n",
       " {'Num_caso_2': 'HY411595',\n",
       "  'Descripción_2': 'Tráfico de drogas',\n",
       "  'Arrestado_2': 'True',\n",
       "  'Nro_area_comunitaria_2': '21',\n",
       "  'Cuadra_2': '035XX W BARRY AVE',\n",
       "  'Fecha_2': '2015-09-05 12:45:00',\n",
       "  'Coordenadas_la_2': '41.937406',\n",
       "  'Coordenadas_lo_2': '-87.716650'},\n",
       " {'Num_caso_3': 'HY411435',\n",
       "  'Descripción_3': 'Robo en casa',\n",
       "  'Arrestado_3': 'False',\n",
       "  'Nro_area_comunitaria_3': '71',\n",
       "  'Cuadra_3': '082XX S LOOMIS BLVD',\n",
       "  'Fecha_3': '2015-09-05 10:55:00',\n",
       "  'Coordenadas_la_3': '41.744379',\n",
       "  'Coordenadas_lo_3': '-87.658431'},\n",
       " {'Num_caso_4': 'HY411662',\n",
       "  'Descripción_4': 'Robo por valor menor a 500$',\n",
       "  'Arrestado_4': 'False',\n",
       "  'Nro_area_comunitaria_4': '65',\n",
       "  'Cuadra_4': '071XX S PULASKI RD',\n",
       "  'Fecha_4': '2015-09-05 14:00:00',\n",
       "  'Coordenadas_la_4': '41.763648',\n",
       "  'Coordenadas_lo_4': '-87.722345'}]"
      ]
     },
     "execution_count": 28,
     "metadata": {},
     "output_type": "execute_result"
    }
   ],
   "source": [
    "lista_delitos"
   ]
  },
  {
   "cell_type": "markdown",
   "id": "54c8cde4",
   "metadata": {},
   "source": [
    "c. Nos solicitan recuperar los datos del diccionario de un caso con número HY411595."
   ]
  },
  {
   "cell_type": "code",
   "execution_count": 29,
   "id": "463fd7b4",
   "metadata": {},
   "outputs": [
    {
     "name": "stdout",
     "output_type": "stream",
     "text": [
      "El delito buscado es el Nro 2\n",
      "\n",
      "{'Num_caso_2': 'HY411595', 'Descripción_2': 'Tráfico de drogas', 'Arrestado_2': 'True', 'Nro_area_comunitaria_2': '21', 'Cuadra_2': '035XX W BARRY AVE', 'Fecha_2': '2015-09-05 12:45:00', 'Coordenadas_la_2': '41.937406', 'Coordenadas_lo_2': '-87.716650'}\n"
     ]
    }
   ],
   "source": [
    "cont_rastrea_delito = 1\n",
    "for delito in lista_delitos:\n",
    "    for value in delito.values():\n",
    "        if value == \"HY411595\": \n",
    "            print(f\"El delito buscado es el Nro {cont_rastrea_delito}\\n\")\n",
    "            print(delito)\n",
    "    cont_rastrea_delito += 1"
   ]
  },
  {
   "cell_type": "markdown",
   "id": "a3343172",
   "metadata": {},
   "source": [
    "d. Nos han confirmado que se ha producido el arresto de un sospechoso en el caso \n",
    "HY411648, de forma que el campo arrest ahora debe estar en True. Modificadlo."
   ]
  },
  {
   "cell_type": "markdown",
   "id": "16bf5301",
   "metadata": {},
   "source": [
    "Procedemos a modificar nuestra base de datos, de dicho sospechoso."
   ]
  },
  {
   "cell_type": "code",
   "execution_count": 30,
   "id": "eac8402b",
   "metadata": {
    "scrolled": true
   },
   "outputs": [
    {
     "name": "stdout",
     "output_type": "stream",
     "text": [
      "El delito buscado es el Nro 1\n",
      "\n",
      "{'Num_caso_1': 'HY411648', 'Descripción_1': 'Maltrato doméstico', 'Arrestado_1': True, 'Nro_area_comunitaria_1': '61', 'Cuadra_1': '043XX S WOOD ST', 'Fecha_1': '2015-09-05 13:30:00', 'Coordenadas_la_1': '41.815117', 'Coordenadas_lo_1': '-87.670000'}\n"
     ]
    }
   ],
   "source": [
    "cont_rastrea_delito = 1\n",
    "for delito in lista_delitos:\n",
    "    for value in delito.values():\n",
    "        if value == \"HY411648\": \n",
    "            print(f\"El delito buscado es el Nro {cont_rastrea_delito}\\n\")\n",
    "            delito[f\"Arrestado_{cont_rastrea_delito}\"] = True\n",
    "            print(delito)\n",
    "    cont_rastrea_delito += 1"
   ]
  },
  {
   "cell_type": "markdown",
   "id": "1db5738a",
   "metadata": {},
   "source": [
    "#### Ejercicio 2"
   ]
  },
  {
   "cell_type": "markdown",
   "id": "c0149490",
   "metadata": {},
   "source": [
    "Cread un mapa utilizando la librería Folium y, utilizando bucles, representad las\n",
    "comisarías con un marcador de color azul y los delitos cometidos con un marcador de color\n",
    "rojo (color=”red”)."
   ]
  },
  {
   "cell_type": "markdown",
   "id": "e92264c4",
   "metadata": {},
   "source": [
    "Creamos un mapa, donde los marcadores azules indican las ubicaciones de las comisarias y las rojas de los delitos. Importamos la libería folium para obtener una imagen de un mapa interactivo."
   ]
  },
  {
   "cell_type": "code",
   "execution_count": 62,
   "id": "dfd0bc2a",
   "metadata": {
    "scrolled": true
   },
   "outputs": [
    {
     "data": {
      "text/html": [
       "<div style=\"width:100%;\"><div style=\"position:relative;width:100%;height:0;padding-bottom:60%;\"><span style=\"color:#565656\">Make this Notebook Trusted to load map: File -> Trust Notebook</span><iframe srcdoc=\"&lt;!DOCTYPE html&gt;\n",
       "&lt;html&gt;\n",
       "&lt;head&gt;\n",
       "    \n",
       "    &lt;meta http-equiv=&quot;content-type&quot; content=&quot;text/html; charset=UTF-8&quot; /&gt;\n",
       "    \n",
       "        &lt;script&gt;\n",
       "            L_NO_TOUCH = false;\n",
       "            L_DISABLE_3D = false;\n",
       "        &lt;/script&gt;\n",
       "    \n",
       "    &lt;style&gt;html, body {width: 100%;height: 100%;margin: 0;padding: 0;}&lt;/style&gt;\n",
       "    &lt;style&gt;#map {position:absolute;top:0;bottom:0;right:0;left:0;}&lt;/style&gt;\n",
       "    &lt;script src=&quot;https://cdn.jsdelivr.net/npm/leaflet@1.9.3/dist/leaflet.js&quot;&gt;&lt;/script&gt;\n",
       "    &lt;script src=&quot;https://code.jquery.com/jquery-1.12.4.min.js&quot;&gt;&lt;/script&gt;\n",
       "    &lt;script src=&quot;https://cdn.jsdelivr.net/npm/bootstrap@5.2.2/dist/js/bootstrap.bundle.min.js&quot;&gt;&lt;/script&gt;\n",
       "    &lt;script src=&quot;https://cdnjs.cloudflare.com/ajax/libs/Leaflet.awesome-markers/2.0.2/leaflet.awesome-markers.js&quot;&gt;&lt;/script&gt;\n",
       "    &lt;link rel=&quot;stylesheet&quot; href=&quot;https://cdn.jsdelivr.net/npm/leaflet@1.9.3/dist/leaflet.css&quot;/&gt;\n",
       "    &lt;link rel=&quot;stylesheet&quot; href=&quot;https://cdn.jsdelivr.net/npm/bootstrap@5.2.2/dist/css/bootstrap.min.css&quot;/&gt;\n",
       "    &lt;link rel=&quot;stylesheet&quot; href=&quot;https://netdna.bootstrapcdn.com/bootstrap/3.0.0/css/bootstrap.min.css&quot;/&gt;\n",
       "    &lt;link rel=&quot;stylesheet&quot; href=&quot;https://cdn.jsdelivr.net/npm/@fortawesome/fontawesome-free@6.2.0/css/all.min.css&quot;/&gt;\n",
       "    &lt;link rel=&quot;stylesheet&quot; href=&quot;https://cdnjs.cloudflare.com/ajax/libs/Leaflet.awesome-markers/2.0.2/leaflet.awesome-markers.css&quot;/&gt;\n",
       "    &lt;link rel=&quot;stylesheet&quot; href=&quot;https://cdn.jsdelivr.net/gh/python-visualization/folium/folium/templates/leaflet.awesome.rotate.min.css&quot;/&gt;\n",
       "    \n",
       "            &lt;meta name=&quot;viewport&quot; content=&quot;width=device-width,\n",
       "                initial-scale=1.0, maximum-scale=1.0, user-scalable=no&quot; /&gt;\n",
       "            &lt;style&gt;\n",
       "                #map_c75f96c214d948009f23f6c41e8d6de5 {\n",
       "                    position: relative;\n",
       "                    width: 100.0%;\n",
       "                    height: 100.0%;\n",
       "                    left: 0.0%;\n",
       "                    top: 0.0%;\n",
       "                }\n",
       "                .leaflet-container { font-size: 1rem; }\n",
       "            &lt;/style&gt;\n",
       "        \n",
       "&lt;/head&gt;\n",
       "&lt;body&gt;\n",
       "    \n",
       "    \n",
       "            &lt;div class=&quot;folium-map&quot; id=&quot;map_c75f96c214d948009f23f6c41e8d6de5&quot; &gt;&lt;/div&gt;\n",
       "        \n",
       "&lt;/body&gt;\n",
       "&lt;script&gt;\n",
       "    \n",
       "    \n",
       "            var map_c75f96c214d948009f23f6c41e8d6de5 = L.map(\n",
       "                &quot;map_c75f96c214d948009f23f6c41e8d6de5&quot;,\n",
       "                {\n",
       "                    center: [41.86438, -87.672638],\n",
       "                    crs: L.CRS.EPSG3857,\n",
       "                    zoom: 9,\n",
       "                    zoomControl: true,\n",
       "                    preferCanvas: false,\n",
       "                }\n",
       "            );\n",
       "\n",
       "            \n",
       "\n",
       "        \n",
       "    \n",
       "            var tile_layer_cd53b2f296c2ef7348dfb732b32acb4a = L.tileLayer(\n",
       "                &quot;https://{s}.tile.openstreetmap.org/{z}/{x}/{y}.png&quot;,\n",
       "                {&quot;attribution&quot;: &quot;Data by \\u0026copy; \\u003ca target=\\&quot;_blank\\&quot; href=\\&quot;http://openstreetmap.org\\&quot;\\u003eOpenStreetMap\\u003c/a\\u003e, under \\u003ca target=\\&quot;_blank\\&quot; href=\\&quot;http://www.openstreetmap.org/copyright\\&quot;\\u003eODbL\\u003c/a\\u003e.&quot;, &quot;detectRetina&quot;: false, &quot;maxNativeZoom&quot;: 18, &quot;maxZoom&quot;: 18, &quot;minZoom&quot;: 0, &quot;noWrap&quot;: false, &quot;opacity&quot;: 1, &quot;subdomains&quot;: &quot;abc&quot;, &quot;tms&quot;: false}\n",
       "            ).addTo(map_c75f96c214d948009f23f6c41e8d6de5);\n",
       "        \n",
       "    \n",
       "            var marker_7db77049771e2f44af1afa213a9f6195 = L.marker(\n",
       "                [41.9474, -87.651512],\n",
       "                {}\n",
       "            ).addTo(map_c75f96c214d948009f23f6c41e8d6de5);\n",
       "        \n",
       "    \n",
       "            var icon_1e6c8f82a029b0b8d65957756d72a640 = L.AwesomeMarkers.icon(\n",
       "                {&quot;extraClasses&quot;: &quot;fa-rotate-0&quot;, &quot;icon&quot;: &quot;info-sign&quot;, &quot;iconColor&quot;: &quot;white&quot;, &quot;markerColor&quot;: &quot;blue&quot;, &quot;prefix&quot;: &quot;glyphicon&quot;}\n",
       "            );\n",
       "            marker_7db77049771e2f44af1afa213a9f6195.setIcon(icon_1e6c8f82a029b0b8d65957756d72a640);\n",
       "        \n",
       "    \n",
       "        var popup_ae1caff8e8f7827ffcc3fbd537cd3778 = L.popup({&quot;maxWidth&quot;: &quot;100%&quot;});\n",
       "\n",
       "        \n",
       "            \n",
       "                var html_a1eb906bc57fac9adc75690b8d1c5009 = $(`&lt;div id=&quot;html_a1eb906bc57fac9adc75690b8d1c5009&quot; style=&quot;width: 100.0%; height: 100.0%;&quot;&gt;Town Hall&lt;/div&gt;`)[0];\n",
       "                popup_ae1caff8e8f7827ffcc3fbd537cd3778.setContent(html_a1eb906bc57fac9adc75690b8d1c5009);\n",
       "            \n",
       "        \n",
       "\n",
       "        marker_7db77049771e2f44af1afa213a9f6195.bindPopup(popup_ae1caff8e8f7827ffcc3fbd537cd3778)\n",
       "        ;\n",
       "\n",
       "        \n",
       "    \n",
       "    \n",
       "            var marker_2f4e220ac660ed40ca00cff3ec2bcfea = L.marker(\n",
       "                [41.691435, -87.66852],\n",
       "                {}\n",
       "            ).addTo(map_c75f96c214d948009f23f6c41e8d6de5);\n",
       "        \n",
       "    \n",
       "            var icon_523516dfff67cee71bbba00effdd5d42 = L.AwesomeMarkers.icon(\n",
       "                {&quot;extraClasses&quot;: &quot;fa-rotate-0&quot;, &quot;icon&quot;: &quot;info-sign&quot;, &quot;iconColor&quot;: &quot;white&quot;, &quot;markerColor&quot;: &quot;blue&quot;, &quot;prefix&quot;: &quot;glyphicon&quot;}\n",
       "            );\n",
       "            marker_2f4e220ac660ed40ca00cff3ec2bcfea.setIcon(icon_523516dfff67cee71bbba00effdd5d42);\n",
       "        \n",
       "    \n",
       "        var popup_6ecf71a3d197d084dbe89350bbce2426 = L.popup({&quot;maxWidth&quot;: &quot;100%&quot;});\n",
       "\n",
       "        \n",
       "            \n",
       "                var html_d34f75b232e5d690aac82234020a964b = $(`&lt;div id=&quot;html_d34f75b232e5d690aac82234020a964b&quot; style=&quot;width: 100.0%; height: 100.0%;&quot;&gt;Distrito: Morgan Park&lt;/div&gt;`)[0];\n",
       "                popup_6ecf71a3d197d084dbe89350bbce2426.setContent(html_d34f75b232e5d690aac82234020a964b);\n",
       "            \n",
       "        \n",
       "\n",
       "        marker_2f4e220ac660ed40ca00cff3ec2bcfea.bindPopup(popup_6ecf71a3d197d084dbe89350bbce2426)\n",
       "        ;\n",
       "\n",
       "        \n",
       "    \n",
       "    \n",
       "            var marker_bc77119e8063c91eae6b410c0ee47d68 = L.marker(\n",
       "                [41.97955, -87.692845],\n",
       "                {}\n",
       "            ).addTo(map_c75f96c214d948009f23f6c41e8d6de5);\n",
       "        \n",
       "    \n",
       "            var icon_2bdb711d687e9a557728fd1863920768 = L.AwesomeMarkers.icon(\n",
       "                {&quot;extraClasses&quot;: &quot;fa-rotate-0&quot;, &quot;icon&quot;: &quot;info-sign&quot;, &quot;iconColor&quot;: &quot;white&quot;, &quot;markerColor&quot;: &quot;blue&quot;, &quot;prefix&quot;: &quot;glyphicon&quot;}\n",
       "            );\n",
       "            marker_bc77119e8063c91eae6b410c0ee47d68.setIcon(icon_2bdb711d687e9a557728fd1863920768);\n",
       "        \n",
       "    \n",
       "        var popup_6590d2da6f59c2d5eb972a52a91dcaa1 = L.popup({&quot;maxWidth&quot;: &quot;100%&quot;});\n",
       "\n",
       "        \n",
       "            \n",
       "                var html_715c3272010f23db46ac39bddc778350 = $(`&lt;div id=&quot;html_715c3272010f23db46ac39bddc778350&quot; style=&quot;width: 100.0%; height: 100.0%;&quot;&gt;Lincoln&lt;/div&gt;`)[0];\n",
       "                popup_6590d2da6f59c2d5eb972a52a91dcaa1.setContent(html_715c3272010f23db46ac39bddc778350);\n",
       "            \n",
       "        \n",
       "\n",
       "        marker_bc77119e8063c91eae6b410c0ee47d68.bindPopup(popup_6590d2da6f59c2d5eb972a52a91dcaa1)\n",
       "        ;\n",
       "\n",
       "        \n",
       "    \n",
       "    \n",
       "            var marker_a464b989db30b870dfc028e791614ecc = L.marker(\n",
       "                [41.691435, -87.66852],\n",
       "                {}\n",
       "            ).addTo(map_c75f96c214d948009f23f6c41e8d6de5);\n",
       "        \n",
       "    \n",
       "            var icon_9bcc9845f33c6c4c05595f43575256f6 = L.AwesomeMarkers.icon(\n",
       "                {&quot;extraClasses&quot;: &quot;fa-rotate-0&quot;, &quot;icon&quot;: &quot;info-sign&quot;, &quot;iconColor&quot;: &quot;white&quot;, &quot;markerColor&quot;: &quot;blue&quot;, &quot;prefix&quot;: &quot;glyphicon&quot;}\n",
       "            );\n",
       "            marker_a464b989db30b870dfc028e791614ecc.setIcon(icon_9bcc9845f33c6c4c05595f43575256f6);\n",
       "        \n",
       "    \n",
       "        var popup_990942cc73c150f2baba3cb4a621262f = L.popup({&quot;maxWidth&quot;: &quot;100%&quot;});\n",
       "\n",
       "        \n",
       "            \n",
       "                var html_3d1db0340548ce34bf9c2401eb674c4a = $(`&lt;div id=&quot;html_3d1db0340548ce34bf9c2401eb674c4a&quot; style=&quot;width: 100.0%; height: 100.0%;&quot;&gt;Distrito: Morgan Park&lt;/div&gt;`)[0];\n",
       "                popup_990942cc73c150f2baba3cb4a621262f.setContent(html_3d1db0340548ce34bf9c2401eb674c4a);\n",
       "            \n",
       "        \n",
       "\n",
       "        marker_a464b989db30b870dfc028e791614ecc.bindPopup(popup_990942cc73c150f2baba3cb4a621262f)\n",
       "        ;\n",
       "\n",
       "        \n",
       "    \n",
       "    \n",
       "            var marker_4ae3a6e18d99e1b361c086453b394f60 = L.marker(\n",
       "                [41.999763, -87.671324],\n",
       "                {}\n",
       "            ).addTo(map_c75f96c214d948009f23f6c41e8d6de5);\n",
       "        \n",
       "    \n",
       "            var icon_a754d7595c95d053d435736f19bcee0a = L.AwesomeMarkers.icon(\n",
       "                {&quot;extraClasses&quot;: &quot;fa-rotate-0&quot;, &quot;icon&quot;: &quot;info-sign&quot;, &quot;iconColor&quot;: &quot;white&quot;, &quot;markerColor&quot;: &quot;blue&quot;, &quot;prefix&quot;: &quot;glyphicon&quot;}\n",
       "            );\n",
       "            marker_4ae3a6e18d99e1b361c086453b394f60.setIcon(icon_a754d7595c95d053d435736f19bcee0a);\n",
       "        \n",
       "    \n",
       "        var popup_eec8ed9acefc8df624ef05023b731068 = L.popup({&quot;maxWidth&quot;: &quot;100%&quot;});\n",
       "\n",
       "        \n",
       "            \n",
       "                var html_6ebe6968e7b26a2255f97a2b060a289b = $(`&lt;div id=&quot;html_6ebe6968e7b26a2255f97a2b060a289b&quot; style=&quot;width: 100.0%; height: 100.0%;&quot;&gt;Rogers Park&lt;/div&gt;`)[0];\n",
       "                popup_eec8ed9acefc8df624ef05023b731068.setContent(html_6ebe6968e7b26a2255f97a2b060a289b);\n",
       "            \n",
       "        \n",
       "\n",
       "        marker_4ae3a6e18d99e1b361c086453b394f60.bindPopup(popup_eec8ed9acefc8df624ef05023b731068)\n",
       "        ;\n",
       "\n",
       "        \n",
       "    \n",
       "    \n",
       "            var marker_8f0dd5c2c047178fcc11bde31ba81797 = L.marker(\n",
       "                [41.85767, -87.66245],\n",
       "                {}\n",
       "            ).addTo(map_c75f96c214d948009f23f6c41e8d6de5);\n",
       "        \n",
       "    \n",
       "            var icon_06d149bc3609ca6ce01c931828d1f9cc = L.AwesomeMarkers.icon(\n",
       "                {&quot;extraClasses&quot;: &quot;fa-rotate-0&quot;, &quot;icon&quot;: &quot;info-sign&quot;, &quot;iconColor&quot;: &quot;white&quot;, &quot;markerColor&quot;: &quot;red&quot;, &quot;prefix&quot;: &quot;glyphicon&quot;}\n",
       "            );\n",
       "            marker_8f0dd5c2c047178fcc11bde31ba81797.setIcon(icon_06d149bc3609ca6ce01c931828d1f9cc);\n",
       "        \n",
       "    \n",
       "        var popup_036999de993dec95a9428cd6c069ccdf = L.popup({&quot;maxWidth&quot;: &quot;100%&quot;});\n",
       "\n",
       "        \n",
       "            \n",
       "                var html_f6f10879b77d99fc3859f22d571ed8c7 = $(`&lt;div id=&quot;html_f6f10879b77d99fc3859f22d571ed8c7&quot; style=&quot;width: 100.0%; height: 100.0%;&quot;&gt;Delito 1&lt;/div&gt;`)[0];\n",
       "                popup_036999de993dec95a9428cd6c069ccdf.setContent(html_f6f10879b77d99fc3859f22d571ed8c7);\n",
       "            \n",
       "        \n",
       "\n",
       "        marker_8f0dd5c2c047178fcc11bde31ba81797.bindPopup(popup_036999de993dec95a9428cd6c069ccdf)\n",
       "        ;\n",
       "\n",
       "        \n",
       "    \n",
       "    \n",
       "            var marker_afc05f06bda2f7336bc87345efbb4de0 = L.marker(\n",
       "                [41.86845, -87.68455],\n",
       "                {}\n",
       "            ).addTo(map_c75f96c214d948009f23f6c41e8d6de5);\n",
       "        \n",
       "    \n",
       "            var icon_3e2d0de5e081f946b2677ce80cdd7290 = L.AwesomeMarkers.icon(\n",
       "                {&quot;extraClasses&quot;: &quot;fa-rotate-0&quot;, &quot;icon&quot;: &quot;info-sign&quot;, &quot;iconColor&quot;: &quot;white&quot;, &quot;markerColor&quot;: &quot;red&quot;, &quot;prefix&quot;: &quot;glyphicon&quot;}\n",
       "            );\n",
       "            marker_afc05f06bda2f7336bc87345efbb4de0.setIcon(icon_3e2d0de5e081f946b2677ce80cdd7290);\n",
       "        \n",
       "    \n",
       "        var popup_7e1c63cf94d9916b69ba6c1d6c2ef948 = L.popup({&quot;maxWidth&quot;: &quot;100%&quot;});\n",
       "\n",
       "        \n",
       "            \n",
       "                var html_234179d5d8c4257028f1c2c1ec3264aa = $(`&lt;div id=&quot;html_234179d5d8c4257028f1c2c1ec3264aa&quot; style=&quot;width: 100.0%; height: 100.0%;&quot;&gt;Delito 2&lt;/div&gt;`)[0];\n",
       "                popup_7e1c63cf94d9916b69ba6c1d6c2ef948.setContent(html_234179d5d8c4257028f1c2c1ec3264aa);\n",
       "            \n",
       "        \n",
       "\n",
       "        marker_afc05f06bda2f7336bc87345efbb4de0.bindPopup(popup_7e1c63cf94d9916b69ba6c1d6c2ef948)\n",
       "        ;\n",
       "\n",
       "        \n",
       "    \n",
       "    \n",
       "            var marker_f5764ce2d56d00d8764d85b163423b51 = L.marker(\n",
       "                [41.8588, -87.65716],\n",
       "                {}\n",
       "            ).addTo(map_c75f96c214d948009f23f6c41e8d6de5);\n",
       "        \n",
       "    \n",
       "            var icon_2172cbd855ed4e75710aceb821e35234 = L.AwesomeMarkers.icon(\n",
       "                {&quot;extraClasses&quot;: &quot;fa-rotate-0&quot;, &quot;icon&quot;: &quot;info-sign&quot;, &quot;iconColor&quot;: &quot;white&quot;, &quot;markerColor&quot;: &quot;red&quot;, &quot;prefix&quot;: &quot;glyphicon&quot;}\n",
       "            );\n",
       "            marker_f5764ce2d56d00d8764d85b163423b51.setIcon(icon_2172cbd855ed4e75710aceb821e35234);\n",
       "        \n",
       "    \n",
       "        var popup_9eb670c695d6fec14df90761a315332e = L.popup({&quot;maxWidth&quot;: &quot;100%&quot;});\n",
       "\n",
       "        \n",
       "            \n",
       "                var html_63f49c55a3c30d0567fddab93c10b21e = $(`&lt;div id=&quot;html_63f49c55a3c30d0567fddab93c10b21e&quot; style=&quot;width: 100.0%; height: 100.0%;&quot;&gt;Delito 3&lt;/div&gt;`)[0];\n",
       "                popup_9eb670c695d6fec14df90761a315332e.setContent(html_63f49c55a3c30d0567fddab93c10b21e);\n",
       "            \n",
       "        \n",
       "\n",
       "        marker_f5764ce2d56d00d8764d85b163423b51.bindPopup(popup_9eb670c695d6fec14df90761a315332e)\n",
       "        ;\n",
       "\n",
       "        \n",
       "    \n",
       "    \n",
       "            var marker_90b9b3042458ae498802311ad2fd1a82 = L.marker(\n",
       "                [41.85292, -87.66617],\n",
       "                {}\n",
       "            ).addTo(map_c75f96c214d948009f23f6c41e8d6de5);\n",
       "        \n",
       "    \n",
       "            var icon_3ac516e9109c98b984a9220821ccba71 = L.AwesomeMarkers.icon(\n",
       "                {&quot;extraClasses&quot;: &quot;fa-rotate-0&quot;, &quot;icon&quot;: &quot;info-sign&quot;, &quot;iconColor&quot;: &quot;white&quot;, &quot;markerColor&quot;: &quot;red&quot;, &quot;prefix&quot;: &quot;glyphicon&quot;}\n",
       "            );\n",
       "            marker_90b9b3042458ae498802311ad2fd1a82.setIcon(icon_3ac516e9109c98b984a9220821ccba71);\n",
       "        \n",
       "    \n",
       "        var popup_0a45e2a8b94602ce97d0bcd9a491140d = L.popup({&quot;maxWidth&quot;: &quot;100%&quot;});\n",
       "\n",
       "        \n",
       "            \n",
       "                var html_0691e26a2aa250ac9772011759454aa7 = $(`&lt;div id=&quot;html_0691e26a2aa250ac9772011759454aa7&quot; style=&quot;width: 100.0%; height: 100.0%;&quot;&gt;Delito 4&lt;/div&gt;`)[0];\n",
       "                popup_0a45e2a8b94602ce97d0bcd9a491140d.setContent(html_0691e26a2aa250ac9772011759454aa7);\n",
       "            \n",
       "        \n",
       "\n",
       "        marker_90b9b3042458ae498802311ad2fd1a82.bindPopup(popup_0a45e2a8b94602ce97d0bcd9a491140d)\n",
       "        ;\n",
       "\n",
       "        \n",
       "    \n",
       "&lt;/script&gt;\n",
       "&lt;/html&gt;\" style=\"position:absolute;width:100%;height:100%;left:0;top:0;border:none !important;\" allowfullscreen webkitallowfullscreen mozallowfullscreen></iframe></div></div>"
      ],
      "text/plain": [
       "<folium.folium.Map at 0x7fda187a5e80>"
      ]
     },
     "execution_count": 62,
     "metadata": {},
     "output_type": "execute_result"
    }
   ],
   "source": [
    "import folium\n",
    "\n",
    "# Crear el mapa centrado en las coordenadas indicadas\n",
    "mapa = folium.Map(location=[41.864380, -87.672638], zoom_start=9)\n",
    "\n",
    "# Agregar marcadores para las comisarías\n",
    "comisarias = [(\"Town Hall\", 41.947400, -87.651512),\n",
    "              (\"Distrito: Morgan Park\", 41.691435, -87.668520),\n",
    "              (\"Lincoln\", 41.979550, -87.692845),\n",
    "              (\"Distrito: Morgan Park\", 41.691435, -87.668520),\n",
    "              (\"Rogers Park\", 41.999763, -87.671324)]\n",
    "\n",
    "for comisaria in comisarias:\n",
    "    folium.Marker(location=[comisaria[1], comisaria[2]], \n",
    "                  popup=comisaria[0], \n",
    "                  icon=folium.Icon(color='blue')).add_to(mapa)\n",
    "# Agregar marcadores para los delitos\n",
    "delitos_markers = [(\"Delito 1\", 41.857670, -87.662450),\n",
    "           (\"Delito 2\", 41.868450, -87.684550),\n",
    "           (\"Delito 3\", 41.858800, -87.657160),\n",
    "           (\"Delito 4\", 41.852920, -87.666170)\n",
    "               ]\n",
    "\n",
    "for delito in delitos_markers:\n",
    "    folium.Marker(location=[delito[1], delito[2]], \n",
    "                  popup=delito[0], \n",
    "                  icon=folium.Icon(color='red')).add_to(mapa)\n",
    "\n",
    "# Mostrar el mapa\n",
    "mapa"
   ]
  },
  {
   "cell_type": "markdown",
   "id": "9d0d9f52",
   "metadata": {},
   "source": [
    "#### Ejercicio 3"
   ]
  },
  {
   "cell_type": "markdown",
   "id": "6f8b7c11",
   "metadata": {},
   "source": [
    "Cread una función para calcular el índice de criminalidad de una determinada área \n",
    "comunitaria. El índice de criminalidad por cada 100.000 habitantes."
   ]
  },
  {
   "cell_type": "markdown",
   "id": "3b61e4ba",
   "metadata": {},
   "source": [
    "Ceamos una función que calcula el índice de criminalidad por cada 100000 habitantes de una determinada area comunitaria dado el número de delitos y la población de dicha area"
   ]
  },
  {
   "cell_type": "code",
   "execution_count": 4,
   "id": "5b442e4d",
   "metadata": {},
   "outputs": [],
   "source": [
    "lista_indices = []\n",
    "def indice_criminalidad():\n",
    "\n",
    "    delitos=int(input(\"Introduce numero de delitos: \"))\n",
    "    poblacion=int(input(\"Introduce numero de población: \"))\n",
    "\n",
    "    # A través de esta comprobación prevenimos que se divida entre cero.\n",
    "    if poblacion!=0:\n",
    "        lista_indices.append(((delitos/poblacion)* 100000))\n",
    "        return ((delitos/poblacion)* 100000)\n",
    "    else:\n",
    "        return \"Error\"\n",
    "    \n",
    "    indice_criminalidad()"
   ]
  },
  {
   "cell_type": "markdown",
   "id": "f79d2f62",
   "metadata": {},
   "source": [
    "Procedemos a cacular el índice de criminalidad."
   ]
  },
  {
   "cell_type": "markdown",
   "id": "4fbf4b2b",
   "metadata": {},
   "source": [
    "#### Area 1"
   ]
  },
  {
   "cell_type": "code",
   "execution_count": 5,
   "id": "c7cf749f",
   "metadata": {
    "scrolled": true
   },
   "outputs": [
    {
     "name": "stdout",
     "output_type": "stream",
     "text": [
      "Introduce numero de delitos: 289\n",
      "Introduce numero de población: 54991\n"
     ]
    },
    {
     "data": {
      "text/plain": [
       "525.5405429979451"
      ]
     },
     "execution_count": 5,
     "metadata": {},
     "output_type": "execute_result"
    }
   ],
   "source": [
    "indice_criminalidad()"
   ]
  },
  {
   "cell_type": "markdown",
   "id": "344d8ae7",
   "metadata": {},
   "source": [
    "#### Area 2"
   ]
  },
  {
   "cell_type": "code",
   "execution_count": 6,
   "id": "b40dfc25",
   "metadata": {},
   "outputs": [
    {
     "name": "stdout",
     "output_type": "stream",
     "text": [
      "Introduce numero de delitos: 228\n",
      "Introduce numero de población: 71942\n"
     ]
    },
    {
     "data": {
      "text/plain": [
       "316.9219649161825"
      ]
     },
     "execution_count": 6,
     "metadata": {},
     "output_type": "execute_result"
    }
   ],
   "source": [
    "indice_criminalidad()"
   ]
  },
  {
   "cell_type": "markdown",
   "id": "1e7d55d8",
   "metadata": {},
   "source": [
    "#### Area 3"
   ]
  },
  {
   "cell_type": "code",
   "execution_count": 7,
   "id": "0a0eae44",
   "metadata": {
    "scrolled": true
   },
   "outputs": [
    {
     "name": "stdout",
     "output_type": "stream",
     "text": [
      "Introduce numero de delitos: 319\n",
      "Introduce numero de población: 56362\n"
     ]
    },
    {
     "data": {
      "text/plain": [
       "565.9841737340762"
      ]
     },
     "execution_count": 7,
     "metadata": {},
     "output_type": "execute_result"
    }
   ],
   "source": [
    "indice_criminalidad()"
   ]
  },
  {
   "cell_type": "markdown",
   "id": "09aa5048",
   "metadata": {},
   "source": [
    "#### Area 4"
   ]
  },
  {
   "cell_type": "code",
   "execution_count": 8,
   "id": "99b4139d",
   "metadata": {
    "scrolled": false
   },
   "outputs": [
    {
     "name": "stdout",
     "output_type": "stream",
     "text": [
      "Introduce numero de delitos: 141\n",
      "Introduce numero de población: 39493\n"
     ]
    },
    {
     "data": {
      "text/plain": [
       "357.02529562200897"
      ]
     },
     "execution_count": 8,
     "metadata": {},
     "output_type": "execute_result"
    }
   ],
   "source": [
    "indice_criminalidad()"
   ]
  },
  {
   "cell_type": "markdown",
   "id": "bcf4b092",
   "metadata": {},
   "source": [
    "#### Area 5"
   ]
  },
  {
   "cell_type": "code",
   "execution_count": 9,
   "id": "af591687",
   "metadata": {
    "scrolled": true
   },
   "outputs": [
    {
     "name": "stdout",
     "output_type": "stream",
     "text": [
      "Introduce numero de delitos: 5\n",
      "Introduce numero de población: 0\n"
     ]
    },
    {
     "data": {
      "text/plain": [
       "'Error'"
      ]
     },
     "execution_count": 9,
     "metadata": {},
     "output_type": "execute_result"
    }
   ],
   "source": [
    "indice_criminalidad()"
   ]
  },
  {
   "cell_type": "markdown",
   "id": "38ba5ddf",
   "metadata": {},
   "source": [
    "Revisamos que la lista de indices de criminalidad este correcta."
   ]
  },
  {
   "cell_type": "code",
   "execution_count": 21,
   "id": "4d1d2cb3",
   "metadata": {
    "scrolled": true
   },
   "outputs": [
    {
     "data": {
      "text/plain": [
       "[0.5255405429979451,\n",
       " 0.3169219649161825,\n",
       " 0.5659841737340762,\n",
       " 0.35702529562200896]"
      ]
     },
     "execution_count": 21,
     "metadata": {},
     "output_type": "execute_result"
    }
   ],
   "source": [
    "lista_indices"
   ]
  },
  {
   "cell_type": "markdown",
   "id": "9081bcab",
   "metadata": {},
   "source": [
    "Calculamos el promedio de los índices obtenidos, y especificamos el valor máximo y mínimo."
   ]
  },
  {
   "cell_type": "code",
   "execution_count": 22,
   "id": "a14326d6",
   "metadata": {},
   "outputs": [],
   "source": [
    "media = sum(lista_indices) / len(lista_indices)"
   ]
  },
  {
   "cell_type": "code",
   "execution_count": 23,
   "id": "b81e6eb5",
   "metadata": {},
   "outputs": [
    {
     "data": {
      "text/plain": [
       "0.4413679943175532"
      ]
     },
     "execution_count": 23,
     "metadata": {},
     "output_type": "execute_result"
    }
   ],
   "source": [
    "media"
   ]
  },
  {
   "cell_type": "code",
   "execution_count": 24,
   "id": "7f24ae81",
   "metadata": {},
   "outputs": [],
   "source": [
    "maximo = max(lista_indices)\n"
   ]
  },
  {
   "cell_type": "code",
   "execution_count": 25,
   "id": "3b5d38a0",
   "metadata": {},
   "outputs": [],
   "source": [
    "minimo = min(lista_indices)"
   ]
  },
  {
   "cell_type": "code",
   "execution_count": 26,
   "id": "a666b792",
   "metadata": {},
   "outputs": [
    {
     "name": "stdout",
     "output_type": "stream",
     "text": [
      "0.5659841737340762 0.3169219649161825\n"
     ]
    }
   ],
   "source": [
    "print(maximo, minimo)"
   ]
  },
  {
   "cell_type": "markdown",
   "id": "e14c2db5",
   "metadata": {},
   "source": [
    "Volviendo a nuestro listado de delitos, convertid el campo Fecha de cada delito a formato\n",
    "datetime y ordenad los delitos por el momento en el que se cometieron, mostrando por\n",
    "pantalla el nuevo orden."
   ]
  },
  {
   "cell_type": "markdown",
   "id": "18b5587a",
   "metadata": {},
   "source": [
    "Convertimos el campo fecha de cada delito a formato datetime"
   ]
  },
  {
   "cell_type": "code",
   "execution_count": 34,
   "id": "8deb6021",
   "metadata": {},
   "outputs": [],
   "source": [
    "cont_rastrea_delito = 1\n",
    "for delito in lista_delitos:\n",
    "    dateString = delito[f\"Fecha_{cont_rastrea_delito}\"]\n",
    "    dateFormatter = '%Y-%m-%d %H:%M:%S'\n",
    "    fecha_nueva = datetime.strptime(dateString, dateFormatter)   \n",
    "    \n",
    "    delito[f\"Fecha_{cont_rastrea_delito}\"] = fecha_nueva\n",
    "    \n",
    "    cont_rastrea_delito += 1"
   ]
  },
  {
   "cell_type": "markdown",
   "id": "0cc389a3",
   "metadata": {},
   "source": [
    "Corroboramos que los campos fecha se hayan cambiado de formato correctamente"
   ]
  },
  {
   "cell_type": "code",
   "execution_count": 35,
   "id": "5e6cacd2",
   "metadata": {},
   "outputs": [
    {
     "data": {
      "text/plain": [
       "[{'Num_caso_1': 'HY411648',\n",
       "  'Descripción_1': 'Maltrato doméstico',\n",
       "  'Arrestado_1': True,\n",
       "  'Nro_area_comunitaria_1': '61',\n",
       "  'Cuadra_1': '043XX S WOOD ST',\n",
       "  'Fecha_1': datetime.datetime(2015, 9, 5, 13, 30),\n",
       "  'Coordenadas_la_1': '41.815117',\n",
       "  'Coordenadas_lo_1': '-87.670000'},\n",
       " {'Num_caso_2': 'HY411595',\n",
       "  'Descripción_2': 'Tráfico de drogas',\n",
       "  'Arrestado_2': 'True',\n",
       "  'Nro_area_comunitaria_2': '21',\n",
       "  'Cuadra_2': '035XX W BARRY AVE',\n",
       "  'Fecha_2': datetime.datetime(2015, 9, 5, 12, 45),\n",
       "  'Coordenadas_la_2': '41.937406',\n",
       "  'Coordenadas_lo_2': '-87.716650'},\n",
       " {'Num_caso_3': 'HY411435',\n",
       "  'Descripción_3': 'Robo en casa',\n",
       "  'Arrestado_3': 'False',\n",
       "  'Nro_area_comunitaria_3': '71',\n",
       "  'Cuadra_3': '082XX S LOOMIS BLVD',\n",
       "  'Fecha_3': datetime.datetime(2015, 9, 5, 10, 55),\n",
       "  'Coordenadas_la_3': '41.744379',\n",
       "  'Coordenadas_lo_3': '-87.658431'},\n",
       " {'Num_caso_4': 'HY411662',\n",
       "  'Descripción_4': 'Robo por valor menor a 500$',\n",
       "  'Arrestado_4': 'False',\n",
       "  'Nro_area_comunitaria_4': '65',\n",
       "  'Cuadra_4': '071XX S PULASKI RD',\n",
       "  'Fecha_4': datetime.datetime(2015, 9, 5, 14, 0),\n",
       "  'Coordenadas_la_4': '41.763648',\n",
       "  'Coordenadas_lo_4': '-87.722345'}]"
      ]
     },
     "execution_count": 35,
     "metadata": {},
     "output_type": "execute_result"
    }
   ],
   "source": [
    "lista_delitos"
   ]
  },
  {
   "cell_type": "markdown",
   "id": "59fd40c6",
   "metadata": {},
   "source": [
    "Odenamos los delitos por el momento en el que se cometieron"
   ]
  },
  {
   "cell_type": "markdown",
   "id": "a9cfd462",
   "metadata": {},
   "source": [
    "Esta ordenación deberá ser de los más recientes a los más\n",
    "antiguos. Además, calculad el tiempo promedio (en minutos), entre la consecución de un\n",
    "delito y el siguiente. Expresad el resultado con un decimal."
   ]
  },
  {
   "cell_type": "code",
   "execution_count": 47,
   "id": "85efa5ac",
   "metadata": {
    "scrolled": true
   },
   "outputs": [],
   "source": [
    "def ordena_delitos(lista_delitos):\n",
    "    cont_rastrea_delito = 1\n",
    "    lista_delitos_ordenada = []\n",
    "    for delito in lista_delitos:\n",
    "        fecha_delito = delito[f\"Fecha_{cont_rastrea_delito}\"]\n",
    "        lista_delitos_ordenada.append(fecha_delito)\n",
    "        cont_rastrea_delito += 1\n",
    "    lista_delitos_ordenada.sort(reverse=True)\n",
    "    return lista_delitos_ordenada"
   ]
  },
  {
   "cell_type": "code",
   "execution_count": 48,
   "id": "73c2a22c",
   "metadata": {},
   "outputs": [
    {
     "data": {
      "text/plain": [
       "[datetime.datetime(2015, 9, 5, 14, 0),\n",
       " datetime.datetime(2015, 9, 5, 13, 30),\n",
       " datetime.datetime(2015, 9, 5, 12, 45),\n",
       " datetime.datetime(2015, 9, 5, 10, 55)]"
      ]
     },
     "execution_count": 48,
     "metadata": {},
     "output_type": "execute_result"
    }
   ],
   "source": [
    "ordena_delitos(lista_delitos)"
   ]
  },
  {
   "cell_type": "markdown",
   "id": "2c3af9c3",
   "metadata": {},
   "source": [
    "Se convirtieron en minutos para facilitar el cálculo del tiempo promedio entre los delitos cometidos."
   ]
  },
  {
   "cell_type": "code",
   "execution_count": 51,
   "id": "182daa44",
   "metadata": {},
   "outputs": [],
   "source": [
    "def conversor_de_tiempo_a_minutos(horas,minutos,segundos):\n",
    "    h=horas*60\n",
    "    m=minutos\n",
    "    s=segundos/60\n",
    "    minutos_totales=h+m+s\n",
    "    return minutos_totales"
   ]
  },
  {
   "cell_type": "code",
   "execution_count": 52,
   "id": "af474001",
   "metadata": {
    "scrolled": true
   },
   "outputs": [
    {
     "data": {
      "text/plain": [
       "655.0"
      ]
     },
     "execution_count": 52,
     "metadata": {},
     "output_type": "execute_result"
    }
   ],
   "source": [
    "delito3_minutos=conversor_de_tiempo_a_minutos(10,55,0)\n",
    "delito3_minutos"
   ]
  },
  {
   "cell_type": "code",
   "execution_count": 53,
   "id": "88947c4d",
   "metadata": {},
   "outputs": [
    {
     "data": {
      "text/plain": [
       "765.0"
      ]
     },
     "execution_count": 53,
     "metadata": {},
     "output_type": "execute_result"
    }
   ],
   "source": [
    "delito2_minutos=conversor_de_tiempo_a_minutos(12,45,0)\n",
    "delito2_minutos"
   ]
  },
  {
   "cell_type": "code",
   "execution_count": 54,
   "id": "a265c158",
   "metadata": {},
   "outputs": [
    {
     "data": {
      "text/plain": [
       "810.0"
      ]
     },
     "execution_count": 54,
     "metadata": {},
     "output_type": "execute_result"
    }
   ],
   "source": [
    "delito1_minutos=conversor_de_tiempo_a_minutos(13,30,0)\n",
    "delito1_minutos"
   ]
  },
  {
   "cell_type": "code",
   "execution_count": 55,
   "id": "c821503d",
   "metadata": {
    "scrolled": true
   },
   "outputs": [
    {
     "data": {
      "text/plain": [
       "840.0"
      ]
     },
     "execution_count": 55,
     "metadata": {},
     "output_type": "execute_result"
    }
   ],
   "source": [
    "delito4_minutos=conversor_de_tiempo_a_minutos(14,0,0)\n",
    "delito4_minutos"
   ]
  },
  {
   "cell_type": "code",
   "execution_count": 56,
   "id": "b780a5e4",
   "metadata": {},
   "outputs": [
    {
     "name": "stdout",
     "output_type": "stream",
     "text": [
      "El tiempo promedio entre delitos fue: 61.666666666666664\n"
     ]
    }
   ],
   "source": [
    "tiempo_1=delito2_minutos-delito3_minutos\n",
    "tiempo_2=delito1_minutos-delito2_minutos\n",
    "tiempo_3=delito4_minutos-delito1_minutos\n",
    "tiempo_promedio=(tiempo_1+tiempo_2+tiempo_3)/3\n",
    "print(f\"El tiempo promedio entre delitos fue: {tiempo_promedio}\")"
   ]
  },
  {
   "cell_type": "markdown",
   "id": "c2016d62",
   "metadata": {},
   "source": [
    "#### Ejercicio 4"
   ]
  },
  {
   "cell_type": "markdown",
   "id": "34bd9bfb",
   "metadata": {},
   "source": [
    "Debemos convertir las coordenadas geográficas al sistema de referencia destino\n",
    "utilizando el método transform."
   ]
  },
  {
   "cell_type": "code",
   "execution_count": null,
   "id": "b557a13d",
   "metadata": {
    "scrolled": false
   },
   "outputs": [],
   "source": [
    "Transformer.from_crs(\"EPSG:4326\", \"EPSG:26916\")"
   ]
  },
  {
   "cell_type": "code",
   "execution_count": 58,
   "id": "0e41a78c",
   "metadata": {
    "scrolled": true
   },
   "outputs": [
    {
     "name": "stdout",
     "output_type": "stream",
     "text": [
      "Delito 1: (444351.7224734627, 4629466.145806284)\n",
      "Delito 2: (440590.4535784838, 4643074.839421171)\n",
      "Delito 3: (440411.6317847749, 4621643.6807730505)\n",
      "Delito 4: (439956.06030854624, 4623786.982783222)\n",
      "Comisaría Near North: (446638.35484647047, 4639233.4777482115)\n",
      "Comisaría Town Hall: (445998.7869142728, 4644141.368576657)\n",
      "Comisaría Lincoln: (442601.7069168785, 4647737.819259081)\n",
      "Comisaría Distrito: Morgan Park: (444367.9478988955, 4615733.402057038)\n",
      "Comisaría Rogers Park: (941376.958931384, 15332425.339063589)\n"
     ]
    }
   ],
   "source": [
    "import pyproj\n",
    "\n",
    "origen_destino=pyproj.Transformer.from_crs(\"EPSG:4326\", \"EPSG:26916\")\n",
    "destino_origen=pyproj.Transformer.from_crs(26916,4326)\n",
    "\n",
    "coorde_delito_1=origen_destino.transform(41.815117,   -87.67)\n",
    "print(f\"Delito 1: {coorde_delito_1}\")\n",
    "coorde_delito_2=origen_destino.transform(41.937406, -87.716650)\n",
    "print(f\"Delito 2: {coorde_delito_2}\")\n",
    "coorde_delito_3=origen_destino.transform(41.744379, -87.716650)\n",
    "print(f\"Delito 3: {coorde_delito_3}\")\n",
    "coorde_delito_4=origen_destino.transform( 41.763648,  -87.722345)\n",
    "print(f\"Delito 4: {coorde_delito_4}\")\n",
    "\n",
    "coorde_comisaria_near_north=origen_destino.transform( 41.903242,  -87.643352)\n",
    "print(f\"Comisaría Near North: {coorde_comisaria_near_north}\")\n",
    "coorde_comisaria_town_hall=origen_destino.transform( 41.947400,  -87.651512)\n",
    "print(f\"Comisaría Town Hall: {coorde_comisaria_town_hall}\")\n",
    "coorde_comisaria_lincoln=origen_destino.transform( 41.979550,  -87.692845)\n",
    "print(f\"Comisaría Lincoln: {coorde_comisaria_lincoln}\")\n",
    "coorde_comisaria_distrito_morgan_park=origen_destino.transform( 41.691435,  -87.668520)\n",
    "print(f\"Comisaría Distrito: Morgan Park: {coorde_comisaria_distrito_morgan_park}\")\n",
    "coorde_comisaria_rogers_park=origen_destino.transform( 41.999763,  --87.671324)\n",
    "print(f\"Comisaría Rogers Park: {coorde_comisaria_rogers_park}\")"
   ]
  },
  {
   "cell_type": "markdown",
   "id": "4d6fcb1b",
   "metadata": {},
   "source": [
    "Convertimos la información en listas. Utilizando la librería \"math\" que proporciona acceso a las funciones matemáticas. <br>Encontramos la distancia euclídea en metros entre los delitos y la comisarías. \n",
    "<br>Y como resultado final mostramos por pantalla la comisaría mas cercana a cada delito."
   ]
  },
  {
   "cell_type": "code",
   "execution_count": 63,
   "id": "05e13ab6",
   "metadata": {
    "scrolled": true
   },
   "outputs": [
    {
     "name": "stdout",
     "output_type": "stream",
     "text": [
      "La comisaría más cercana al delito 1 se encuentra a 10031.423671298602 metros y es la Comisaria Comisaría Near North\n",
      "La comisaría más cercana al delito 2 se encuentra a 5078.239947064506 metros y es la Comisaria Comisaría Lincoln\n",
      "La comisaría más cercana al delito 3 se encuentra a 7112.231133463263 metros y es la Comisaria Comisaría Distrito\n",
      "La comisaría más cercana al delito 4 se encuentra a 9182.859828127579 metros y es la Comisaria Comisaría Distrito\n"
     ]
    }
   ],
   "source": [
    "m_del=[(\"Delito1\",444351.7224734627, 4629466.145806284),\n",
    "              (\"Delito2\",440590.4535784838, 4643074.839421171),\n",
    "              (\"Delito3\",440411.63178477495, 4621643.6807730505),\n",
    "              (\"Delito4\",439956.06030854624, 4623786.982783222)]\n",
    "m_com=[(\"Comisaría Near North\",446638.35484647047, 4639233.4777482115),\n",
    "                 (\"Comisaría Town Hall\",445998.7869142728, 4644141.368576657),\n",
    "                 (\"Comisaría Lincoln\",442601.7069168785, 4647737.819259081),\n",
    "                (\"Comisaría Distrito\",444367.9478988955, 4615733.402057038),\n",
    "                 (\"Comisaría Rogers Park\",444402.2013359857, 4649967.860712599)]\n",
    "\n",
    "import math\n",
    "# from math import dist\n",
    "\n",
    "lista_distancias_1 = []\n",
    "lista_distancias_2 = []\n",
    "lista_distancias_3 = []\n",
    "lista_distancias_4 = []\n",
    "\n",
    "\n",
    "\n",
    "\n",
    "\n",
    "\n",
    "\n",
    "for a in m_del:\n",
    "    for b in m_com:\n",
    "        d = math.sqrt((a[1] - b[1]) ** 2 + (a[2] - b[2]) ** 2) \n",
    "        \n",
    "        if \"Delito1\" in a:    \n",
    "            lista_distancias_1.append(d) \n",
    "            indice = lista_distancias_1.index(min(lista_distancias_1))\n",
    "        elif \"Delito2\" in a:    \n",
    "            lista_distancias_2.append(d)   \n",
    "            indice = lista_distancias_2.index(min(lista_distancias_2))\n",
    "        elif \"Delito3\" in a:    \n",
    "            lista_distancias_3.append(d)\n",
    "            indice = lista_distancias_3.index(min(lista_distancias_3))\n",
    "        elif \"Delito4\" in a:    \n",
    "            lista_distancias_4.append(d)\n",
    "            indice = lista_distancias_4.index(min(lista_distancias_4))\n",
    "\n",
    "print(f\"La comisaría más cercana al delito 1 se encuentra a {min(lista_distancias_1)} metros y es la Comisaria {m_com[lista_distancias_1.index(min(lista_distancias_1))][0]}\") \n",
    "print(f\"La comisaría más cercana al delito 2 se encuentra a {min(lista_distancias_2)} metros y es la Comisaria {m_com[lista_distancias_2.index(min(lista_distancias_2))][0]}\") \n",
    "print(f\"La comisaría más cercana al delito 3 se encuentra a {min(lista_distancias_3)} metros y es la Comisaria {m_com[lista_distancias_3.index(min(lista_distancias_3))][0]}\") \n",
    "print(f\"La comisaría más cercana al delito 4 se encuentra a {min(lista_distancias_4)} metros y es la Comisaria {m_com[lista_distancias_4.index(min(lista_distancias_4))][0]}\") "
   ]
  }
 ],
 "metadata": {
  "kernelspec": {
   "display_name": "Python 3 (ipykernel)",
   "language": "python",
   "name": "python3"
  },
  "language_info": {
   "codemirror_mode": {
    "name": "ipython",
    "version": 3
   },
   "file_extension": ".py",
   "mimetype": "text/x-python",
   "name": "python",
   "nbconvert_exporter": "python",
   "pygments_lexer": "ipython3",
   "version": "3.9.13"
  }
 },
 "nbformat": 4,
 "nbformat_minor": 5
}
